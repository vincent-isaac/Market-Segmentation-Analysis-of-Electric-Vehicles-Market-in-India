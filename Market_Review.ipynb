{
 "cells": [
  {
   "cell_type": "code",
   "execution_count": 1,
   "metadata": {},
   "outputs": [
    {
     "name": "stderr",
     "output_type": "stream",
     "text": [
      "c:\\Users\\vince\\AppData\\Local\\Programs\\Python\\Python310\\lib\\site-packages\\tqdm\\auto.py:22: TqdmWarning: IProgress not found. Please update jupyter and ipywidgets. See https://ipywidgets.readthedocs.io/en/stable/user_install.html\n",
      "  from .autonotebook import tqdm as notebook_tqdm\n"
     ]
    }
   ],
   "source": [
    "import pandas as pd \n",
    "import matplotlib.pyplot as plt\n",
    "import seaborn as sns\n",
    "from transformers import pipeline\n",
    "from sklearn.preprocessing import LabelEncoder\n",
    "from sklearn.cluster import KMeans"
   ]
  },
  {
   "cell_type": "code",
   "execution_count": 2,
   "metadata": {},
   "outputs": [],
   "source": [
    "df=pd.read_csv(\"4-wheeler-EV-carwale.csv\")"
   ]
  },
  {
   "cell_type": "code",
   "execution_count": 3,
   "metadata": {},
   "outputs": [
    {
     "data": {
      "text/html": [
       "<div>\n",
       "<style scoped>\n",
       "    .dataframe tbody tr th:only-of-type {\n",
       "        vertical-align: middle;\n",
       "    }\n",
       "\n",
       "    .dataframe tbody tr th {\n",
       "        vertical-align: top;\n",
       "    }\n",
       "\n",
       "    .dataframe thead th {\n",
       "        text-align: right;\n",
       "    }\n",
       "</style>\n",
       "<table border=\"1\" class=\"dataframe\">\n",
       "  <thead>\n",
       "    <tr style=\"text-align: right;\">\n",
       "      <th></th>\n",
       "      <th>review</th>\n",
       "      <th>Exterior</th>\n",
       "      <th>Comfort</th>\n",
       "      <th>Performance</th>\n",
       "      <th>Fuel Economy</th>\n",
       "      <th>Value for Money</th>\n",
       "      <th>Condition</th>\n",
       "      <th>driven</th>\n",
       "      <th>rating</th>\n",
       "      <th>model_name</th>\n",
       "    </tr>\n",
       "  </thead>\n",
       "  <tbody>\n",
       "    <tr>\n",
       "      <th>0</th>\n",
       "      <td>Superb car like as fantastic as petroleum car....</td>\n",
       "      <td>5.0</td>\n",
       "      <td>4.0</td>\n",
       "      <td>5.0</td>\n",
       "      <td>5.0</td>\n",
       "      <td>5.0</td>\n",
       "      <td>New</td>\n",
       "      <td>Few hundred kilometers</td>\n",
       "      <td>5.0</td>\n",
       "      <td>hyundai kona</td>\n",
       "    </tr>\n",
       "    <tr>\n",
       "      <th>1</th>\n",
       "      <td>Anti national, worst service, worst customer c...</td>\n",
       "      <td>1.0</td>\n",
       "      <td>1.0</td>\n",
       "      <td>1.0</td>\n",
       "      <td>1.0</td>\n",
       "      <td>1.0</td>\n",
       "      <td>New</td>\n",
       "      <td>Haven't driven it</td>\n",
       "      <td>0.0</td>\n",
       "      <td>hyundai kona</td>\n",
       "    </tr>\n",
       "    <tr>\n",
       "      <th>2</th>\n",
       "      <td>Super happy with it. The car is too good</td>\n",
       "      <td>4.0</td>\n",
       "      <td>5.0</td>\n",
       "      <td>5.0</td>\n",
       "      <td>5.0</td>\n",
       "      <td>4.0</td>\n",
       "      <td>New</td>\n",
       "      <td>Few thousand kilometers</td>\n",
       "      <td>5.0</td>\n",
       "      <td>hyundai kona</td>\n",
       "    </tr>\n",
       "    <tr>\n",
       "      <th>3</th>\n",
       "      <td>Pretty good car, smooth as a glider fast car, ...</td>\n",
       "      <td>5.0</td>\n",
       "      <td>5.0</td>\n",
       "      <td>5.0</td>\n",
       "      <td>5.0</td>\n",
       "      <td>5.0</td>\n",
       "      <td>New</td>\n",
       "      <td>Few thousand kilometers</td>\n",
       "      <td>5.0</td>\n",
       "      <td>hyundai kona</td>\n",
       "    </tr>\n",
       "    <tr>\n",
       "      <th>4</th>\n",
       "      <td>Price difference between petrol and electronic...</td>\n",
       "      <td>4.0</td>\n",
       "      <td>4.0</td>\n",
       "      <td>5.0</td>\n",
       "      <td>3.0</td>\n",
       "      <td>2.0</td>\n",
       "      <td>Not Purchased</td>\n",
       "      <td>Haven't driven it</td>\n",
       "      <td>3.0</td>\n",
       "      <td>hyundai kona</td>\n",
       "    </tr>\n",
       "  </tbody>\n",
       "</table>\n",
       "</div>"
      ],
      "text/plain": [
       "                                              review  Exterior  Comfort  \\\n",
       "0  Superb car like as fantastic as petroleum car....       5.0      4.0   \n",
       "1  Anti national, worst service, worst customer c...       1.0      1.0   \n",
       "2           Super happy with it. The car is too good       4.0      5.0   \n",
       "3  Pretty good car, smooth as a glider fast car, ...       5.0      5.0   \n",
       "4  Price difference between petrol and electronic...       4.0      4.0   \n",
       "\n",
       "   Performance  Fuel Economy  Value for Money      Condition  \\\n",
       "0          5.0           5.0              5.0            New   \n",
       "1          1.0           1.0              1.0            New   \n",
       "2          5.0           5.0              4.0            New   \n",
       "3          5.0           5.0              5.0            New   \n",
       "4          5.0           3.0              2.0  Not Purchased   \n",
       "\n",
       "                    driven  rating    model_name  \n",
       "0   Few hundred kilometers     5.0  hyundai kona  \n",
       "1        Haven't driven it     0.0  hyundai kona  \n",
       "2  Few thousand kilometers     5.0  hyundai kona  \n",
       "3  Few thousand kilometers     5.0  hyundai kona  \n",
       "4        Haven't driven it     3.0  hyundai kona  "
      ]
     },
     "execution_count": 3,
     "metadata": {},
     "output_type": "execute_result"
    }
   ],
   "source": [
    "df.head()"
   ]
  },
  {
   "cell_type": "code",
   "execution_count": 4,
   "metadata": {},
   "outputs": [
    {
     "data": {
      "text/plain": [
       "Index(['review', 'Exterior', 'Comfort', 'Performance', 'Fuel Economy',\n",
       "       'Value for Money', 'Condition', 'driven', 'rating', 'model_name'],\n",
       "      dtype='object')"
      ]
     },
     "execution_count": 4,
     "metadata": {},
     "output_type": "execute_result"
    }
   ],
   "source": [
    "df.columns"
   ]
  },
  {
   "cell_type": "code",
   "execution_count": 5,
   "metadata": {},
   "outputs": [
    {
     "data": {
      "text/plain": [
       "(129, 10)"
      ]
     },
     "execution_count": 5,
     "metadata": {},
     "output_type": "execute_result"
    }
   ],
   "source": [
    "df.shape"
   ]
  },
  {
   "cell_type": "code",
   "execution_count": 6,
   "metadata": {},
   "outputs": [],
   "source": [
    "Cars=df['model_name'].unique()"
   ]
  },
  {
   "cell_type": "code",
   "execution_count": 7,
   "metadata": {},
   "outputs": [],
   "source": [
    "df1=pd.read_csv(\"4-wheeler-EV-cardekho.csv\")"
   ]
  },
  {
   "cell_type": "code",
   "execution_count": 8,
   "metadata": {},
   "outputs": [
    {
     "data": {
      "text/html": [
       "<div>\n",
       "<style scoped>\n",
       "    .dataframe tbody tr th:only-of-type {\n",
       "        vertical-align: middle;\n",
       "    }\n",
       "\n",
       "    .dataframe tbody tr th {\n",
       "        vertical-align: top;\n",
       "    }\n",
       "\n",
       "    .dataframe thead th {\n",
       "        text-align: right;\n",
       "    }\n",
       "</style>\n",
       "<table border=\"1\" class=\"dataframe\">\n",
       "  <thead>\n",
       "    <tr style=\"text-align: right;\">\n",
       "      <th></th>\n",
       "      <th>Review</th>\n",
       "      <th>Rating</th>\n",
       "      <th>Attributes Mentioned</th>\n",
       "      <th>Model</th>\n",
       "    </tr>\n",
       "  </thead>\n",
       "  <tbody>\n",
       "    <tr>\n",
       "      <th>0</th>\n",
       "      <td>Using it for the last 1 month. It's a gentle-l...</td>\n",
       "      <td>5.0</td>\n",
       "      <td>['mileage' 'performance' 'power' 'price' 'seat...</td>\n",
       "      <td>hyundai kona</td>\n",
       "    </tr>\n",
       "    <tr>\n",
       "      <th>1</th>\n",
       "      <td>In the beginning, the car performed excellentl...</td>\n",
       "      <td>1.0</td>\n",
       "      <td>['mileage' 'performance' 'service' 'parts']</td>\n",
       "      <td>hyundai kona</td>\n",
       "    </tr>\n",
       "    <tr>\n",
       "      <th>2</th>\n",
       "      <td>Hyundai is the best performing company beating...</td>\n",
       "      <td>5.0</td>\n",
       "      <td>['performance' 'service']</td>\n",
       "      <td>hyundai kona</td>\n",
       "    </tr>\n",
       "    <tr>\n",
       "      <th>3</th>\n",
       "      <td>The car offers reasonable performance in this ...</td>\n",
       "      <td>5.0</td>\n",
       "      <td>['performance']</td>\n",
       "      <td>hyundai kona</td>\n",
       "    </tr>\n",
       "    <tr>\n",
       "      <th>4</th>\n",
       "      <td>Hyundai Kona - First electric car of India was...</td>\n",
       "      <td>4.0</td>\n",
       "      <td>['looks' 'comfort' 'interior' 'price' 'insuran...</td>\n",
       "      <td>hyundai kona</td>\n",
       "    </tr>\n",
       "  </tbody>\n",
       "</table>\n",
       "</div>"
      ],
      "text/plain": [
       "                                              Review  Rating  \\\n",
       "0  Using it for the last 1 month. It's a gentle-l...     5.0   \n",
       "1  In the beginning, the car performed excellentl...     1.0   \n",
       "2  Hyundai is the best performing company beating...     5.0   \n",
       "3  The car offers reasonable performance in this ...     5.0   \n",
       "4  Hyundai Kona - First electric car of India was...     4.0   \n",
       "\n",
       "                                Attributes Mentioned         Model  \n",
       "0  ['mileage' 'performance' 'power' 'price' 'seat...  hyundai kona  \n",
       "1        ['mileage' 'performance' 'service' 'parts']  hyundai kona  \n",
       "2                          ['performance' 'service']  hyundai kona  \n",
       "3                                    ['performance']  hyundai kona  \n",
       "4  ['looks' 'comfort' 'interior' 'price' 'insuran...  hyundai kona  "
      ]
     },
     "execution_count": 8,
     "metadata": {},
     "output_type": "execute_result"
    }
   ],
   "source": [
    "df1.head()"
   ]
  },
  {
   "cell_type": "code",
   "execution_count": 9,
   "metadata": {},
   "outputs": [
    {
     "data": {
      "text/plain": [
       "array(['hyundai kona', 'tata nexon ev', 'tata tigor ev'], dtype=object)"
      ]
     },
     "execution_count": 9,
     "metadata": {},
     "output_type": "execute_result"
    }
   ],
   "source": [
    "df['model_name'].unique()"
   ]
  },
  {
   "cell_type": "code",
   "execution_count": 10,
   "metadata": {},
   "outputs": [
    {
     "data": {
      "text/plain": [
       "array(['hyundai kona', 'Kia EV6', 'Tata Nexon EV', 'MG ZS EV',\n",
       "       'Tata Tigor EV', 'BYD E6'], dtype=object)"
      ]
     },
     "execution_count": 10,
     "metadata": {},
     "output_type": "execute_result"
    }
   ],
   "source": [
    "df1['Model'].unique()"
   ]
  },
  {
   "cell_type": "code",
   "execution_count": 11,
   "metadata": {},
   "outputs": [],
   "source": [
    "review=df['review'].to_list()\n",
    "review1=df1['Review'].to_list()"
   ]
  },
  {
   "cell_type": "code",
   "execution_count": 12,
   "metadata": {},
   "outputs": [
    {
     "name": "stderr",
     "output_type": "stream",
     "text": [
      "No model was supplied, defaulted to distilbert-base-uncased-finetuned-sst-2-english and revision af0f99b (https://huggingface.co/distilbert-base-uncased-finetuned-sst-2-english).\n",
      "Using a pipeline without specifying a model name and revision in production is not recommended.\n",
      "Xformers is not installed correctly. If you want to use memorry_efficient_attention to accelerate training use the following command to install Xformers\n",
      "pip install xformers.\n"
     ]
    }
   ],
   "source": [
    "#model=pipeline(model=\"finiteautomata/bertweet-base-sentiment-analysis\")\n",
    "model=pipeline(\"sentiment-analysis\")\n",
    "val=[]\n",
    "value=[]"
   ]
  },
  {
   "cell_type": "code",
   "execution_count": 13,
   "metadata": {},
   "outputs": [],
   "source": [
    "for i in range(0,len(df1)):\n",
    "    val.append(model(review1[i]))"
   ]
  },
  {
   "cell_type": "code",
   "execution_count": 14,
   "metadata": {},
   "outputs": [],
   "source": [
    "for j in range(0,len(df)):\n",
    "    value.append(model(review[j]))"
   ]
  },
  {
   "cell_type": "code",
   "execution_count": 15,
   "metadata": {},
   "outputs": [
    {
     "name": "stdout",
     "output_type": "stream",
     "text": [
      "<class 'list'>\n"
     ]
    }
   ],
   "source": [
    "print(type(value))"
   ]
  },
  {
   "cell_type": "code",
   "execution_count": 16,
   "metadata": {},
   "outputs": [
    {
     "name": "stdout",
     "output_type": "stream",
     "text": [
      "        label     score\n",
      "0    POSITIVE  0.999773\n",
      "1    NEGATIVE  0.998535\n",
      "2    POSITIVE  0.999759\n",
      "3    POSITIVE  0.998826\n",
      "4    POSITIVE  0.998122\n",
      "..        ...       ...\n",
      "135  POSITIVE  0.999883\n",
      "136  POSITIVE  0.999884\n",
      "137  POSITIVE  0.989759\n",
      "138  POSITIVE  0.999862\n",
      "139  POSITIVE  0.999667\n",
      "\n",
      "[140 rows x 2 columns]\n"
     ]
    }
   ],
   "source": [
    "flattened_data = [item[0] for item in val]\n",
    "\n",
    "df = pd.DataFrame(flattened_data)\n",
    "pos=df[df.label=='POSITIVE']\n",
    "neg=df[df.label=='NEGATIVE']\n",
    "print(df)"
   ]
  },
  {
   "cell_type": "code",
   "execution_count": 19,
   "metadata": {},
   "outputs": [
    {
     "name": "stdout",
     "output_type": "stream",
     "text": [
      "Positive Pression 0.7607724902901963\n",
      "Negative Pression 0.23922750970980367\n"
     ]
    }
   ],
   "source": [
    "pos_score=pos['score'].sum()\n",
    "neg_score=neg['score'].sum()\n",
    "pscore=pos_score/(pos_score+neg_score)\n",
    "nscore=neg_score/(pos_score+neg_score)\n",
    "print(\"Positive Pression\" , pscore)\n",
    "print(\"Negative Pression\" , nscore)"
   ]
  },
  {
   "cell_type": "code",
   "execution_count": 20,
   "metadata": {},
   "outputs": [
    {
     "name": "stdout",
     "output_type": "stream",
     "text": [
      "        label     score\n",
      "0    POSITIVE  0.999773\n",
      "1    NEGATIVE  0.998535\n",
      "2    POSITIVE  0.999759\n",
      "3    POSITIVE  0.998826\n",
      "4    POSITIVE  0.998122\n",
      "..        ...       ...\n",
      "135  POSITIVE  0.999883\n",
      "136  POSITIVE  0.999884\n",
      "137  POSITIVE  0.989759\n",
      "138  POSITIVE  0.999862\n",
      "139  POSITIVE  0.999667\n",
      "\n",
      "[140 rows x 2 columns]\n"
     ]
    }
   ],
   "source": [
    "flattened_data = [item[0] for item in val]\n",
    "\n",
    "df = pd.DataFrame(flattened_data)\n",
    "pos=df[df.label=='POSITIVE']\n",
    "neg=df[df.label=='NEGATIVE']\n",
    "print(df)"
   ]
  },
  {
   "cell_type": "code",
   "execution_count": 21,
   "metadata": {},
   "outputs": [
    {
     "name": "stdout",
     "output_type": "stream",
     "text": [
      "Positive Pression 0.7607724902901963\n",
      "Negative Pression 0.23922750970980367\n"
     ]
    }
   ],
   "source": [
    "pos_score=pos['score'].sum()\n",
    "neg_score=neg['score'].sum()\n",
    "pscore=pos_score/(pos_score+neg_score)\n",
    "nscore=neg_score/(pos_score+neg_score)\n",
    "print(\"Positive Pression\" ,pscore)\n",
    "print(\"Negative Pression\" ,nscore)"
   ]
  },
  {
   "cell_type": "code",
   "execution_count": 22,
   "metadata": {},
   "outputs": [],
   "source": [
    "data=pd.read_csv(\"EVIndia.csv\")"
   ]
  },
  {
   "cell_type": "code",
   "execution_count": 23,
   "metadata": {},
   "outputs": [
    {
     "data": {
      "text/plain": [
       "(12, 10)"
      ]
     },
     "execution_count": 23,
     "metadata": {},
     "output_type": "execute_result"
    }
   ],
   "source": [
    "data.shape"
   ]
  },
  {
   "cell_type": "code",
   "execution_count": 24,
   "metadata": {},
   "outputs": [
    {
     "data": {
      "text/html": [
       "<div>\n",
       "<style scoped>\n",
       "    .dataframe tbody tr th:only-of-type {\n",
       "        vertical-align: middle;\n",
       "    }\n",
       "\n",
       "    .dataframe tbody tr th {\n",
       "        vertical-align: top;\n",
       "    }\n",
       "\n",
       "    .dataframe thead th {\n",
       "        text-align: right;\n",
       "    }\n",
       "</style>\n",
       "<table border=\"1\" class=\"dataframe\">\n",
       "  <thead>\n",
       "    <tr style=\"text-align: right;\">\n",
       "      <th></th>\n",
       "      <th>Car</th>\n",
       "      <th>Style</th>\n",
       "      <th>Range</th>\n",
       "      <th>Transmission</th>\n",
       "      <th>VehicleType</th>\n",
       "      <th>PriceRange</th>\n",
       "      <th>Capacity</th>\n",
       "      <th>BootSpace</th>\n",
       "      <th>BaseModel</th>\n",
       "      <th>TopModel</th>\n",
       "    </tr>\n",
       "  </thead>\n",
       "  <tbody>\n",
       "    <tr>\n",
       "      <th>0</th>\n",
       "      <td>Tata Nexon EV</td>\n",
       "      <td>Compact SUV</td>\n",
       "      <td>312 Km/Full Charge</td>\n",
       "      <td>Automatic</td>\n",
       "      <td>Electric</td>\n",
       "      <td>13.99 - 17.4 L</td>\n",
       "      <td>5 Seater</td>\n",
       "      <td>350 L</td>\n",
       "      <td>XM</td>\n",
       "      <td>Dark XZ Plus LUX</td>\n",
       "    </tr>\n",
       "    <tr>\n",
       "      <th>1</th>\n",
       "      <td>Tata Tigor EV</td>\n",
       "      <td>Subcompact Sedan</td>\n",
       "      <td>306 Km/Full Charge</td>\n",
       "      <td>Automatic</td>\n",
       "      <td>Electric</td>\n",
       "      <td>12.49 - 13.64 L</td>\n",
       "      <td>5 Seater</td>\n",
       "      <td>316 L</td>\n",
       "      <td>XE</td>\n",
       "      <td>XZ Plus Dual Tone</td>\n",
       "    </tr>\n",
       "    <tr>\n",
       "      <th>2</th>\n",
       "      <td>Tata Nexon EV Max</td>\n",
       "      <td>Compact SUV</td>\n",
       "      <td>437 Km/Full Charge</td>\n",
       "      <td>Automatic</td>\n",
       "      <td>Electric</td>\n",
       "      <td>17.74 - 19.24 L</td>\n",
       "      <td>5 Seater</td>\n",
       "      <td>350 L</td>\n",
       "      <td>XZ Plus 3.3 kW</td>\n",
       "      <td>XZ Plus Lux 7.2 kW</td>\n",
       "    </tr>\n",
       "    <tr>\n",
       "      <th>3</th>\n",
       "      <td>MG ZS EV</td>\n",
       "      <td>Compact SUV</td>\n",
       "      <td>419 Km/Full Charge</td>\n",
       "      <td>Automatic</td>\n",
       "      <td>Electric</td>\n",
       "      <td>21.99 - 25.88 L</td>\n",
       "      <td>5 Seater</td>\n",
       "      <td>448 L</td>\n",
       "      <td>Excite</td>\n",
       "      <td>Exclusive</td>\n",
       "    </tr>\n",
       "    <tr>\n",
       "      <th>4</th>\n",
       "      <td>Hyundai Kona Electric</td>\n",
       "      <td>Compact SUV</td>\n",
       "      <td>452 Km/Full Charge</td>\n",
       "      <td>Automatic</td>\n",
       "      <td>Electric</td>\n",
       "      <td>23.79 - 23.98 L</td>\n",
       "      <td>5 Seater</td>\n",
       "      <td>na</td>\n",
       "      <td>Premium Dual Tone</td>\n",
       "      <td>HSE</td>\n",
       "    </tr>\n",
       "    <tr>\n",
       "      <th>5</th>\n",
       "      <td>Jaguar I-Pace</td>\n",
       "      <td>Premium Midsize Sedan</td>\n",
       "      <td>470 Km/Full Charge</td>\n",
       "      <td>Automatic</td>\n",
       "      <td>Electric</td>\n",
       "      <td>1.06 - 1.12 Cr</td>\n",
       "      <td>5 Seater</td>\n",
       "      <td>656 L</td>\n",
       "      <td>S</td>\n",
       "      <td>Sportback 55</td>\n",
       "    </tr>\n",
       "    <tr>\n",
       "      <th>6</th>\n",
       "      <td>Audi E-Tron GT</td>\n",
       "      <td>Premium Coupe</td>\n",
       "      <td>388 Km/Full Charge</td>\n",
       "      <td>Automatic</td>\n",
       "      <td>Electric</td>\n",
       "      <td>1.8 Cr</td>\n",
       "      <td>5 Seater</td>\n",
       "      <td>405 L</td>\n",
       "      <td>Quattro</td>\n",
       "      <td>na</td>\n",
       "    </tr>\n",
       "    <tr>\n",
       "      <th>7</th>\n",
       "      <td>BYD E6</td>\n",
       "      <td>Subcompact MPV</td>\n",
       "      <td>415 Km/Full Charge</td>\n",
       "      <td>Automatic</td>\n",
       "      <td>Electric</td>\n",
       "      <td>29.15 L</td>\n",
       "      <td>5 Seater</td>\n",
       "      <td>580 L</td>\n",
       "      <td>STD</td>\n",
       "      <td>na</td>\n",
       "    </tr>\n",
       "    <tr>\n",
       "      <th>8</th>\n",
       "      <td>Mercedes-Benz EQC</td>\n",
       "      <td>Compact SUV</td>\n",
       "      <td>471 Km/Full Charge</td>\n",
       "      <td>Automatic</td>\n",
       "      <td>Electric</td>\n",
       "      <td>1 Cr</td>\n",
       "      <td>5 Seater</td>\n",
       "      <td>na</td>\n",
       "      <td>na</td>\n",
       "      <td>na</td>\n",
       "    </tr>\n",
       "    <tr>\n",
       "      <th>9</th>\n",
       "      <td>BMW iX</td>\n",
       "      <td>Premium Fullsize SUV</td>\n",
       "      <td>425 Km/Full Charge</td>\n",
       "      <td>Automatic</td>\n",
       "      <td>Electric</td>\n",
       "      <td>1.16 Cr</td>\n",
       "      <td>5 Seater</td>\n",
       "      <td>na</td>\n",
       "      <td>na</td>\n",
       "      <td>na</td>\n",
       "    </tr>\n",
       "    <tr>\n",
       "      <th>10</th>\n",
       "      <td>Porsche Taycan</td>\n",
       "      <td>Premium Sports Sedan</td>\n",
       "      <td>na</td>\n",
       "      <td>Automatic</td>\n",
       "      <td>Electric</td>\n",
       "      <td>1.5 Cr</td>\n",
       "      <td>4 Seater</td>\n",
       "      <td>na</td>\n",
       "      <td>na</td>\n",
       "      <td>na</td>\n",
       "    </tr>\n",
       "    <tr>\n",
       "      <th>11</th>\n",
       "      <td>Audi E-Tron</td>\n",
       "      <td>Compact SUV</td>\n",
       "      <td>400 Km/Full Charge</td>\n",
       "      <td>Automatic</td>\n",
       "      <td>Electric</td>\n",
       "      <td>1.01 - 1.19 Cr</td>\n",
       "      <td>5 Seater</td>\n",
       "      <td>660 L</td>\n",
       "      <td>na</td>\n",
       "      <td>na</td>\n",
       "    </tr>\n",
       "  </tbody>\n",
       "</table>\n",
       "</div>"
      ],
      "text/plain": [
       "                      Car                  Style               Range  \\\n",
       "0           Tata Nexon EV            Compact SUV  312 Km/Full Charge   \n",
       "1           Tata Tigor EV       Subcompact Sedan  306 Km/Full Charge   \n",
       "2       Tata Nexon EV Max            Compact SUV  437 Km/Full Charge   \n",
       "3                MG ZS EV            Compact SUV  419 Km/Full Charge   \n",
       "4   Hyundai Kona Electric            Compact SUV  452 Km/Full Charge   \n",
       "5           Jaguar I-Pace  Premium Midsize Sedan  470 Km/Full Charge   \n",
       "6          Audi E-Tron GT          Premium Coupe  388 Km/Full Charge   \n",
       "7                  BYD E6         Subcompact MPV  415 Km/Full Charge   \n",
       "8       Mercedes-Benz EQC            Compact SUV  471 Km/Full Charge   \n",
       "9                  BMW iX   Premium Fullsize SUV  425 Km/Full Charge   \n",
       "10         Porsche Taycan   Premium Sports Sedan                  na   \n",
       "11            Audi E-Tron            Compact SUV  400 Km/Full Charge   \n",
       "\n",
       "   Transmission VehicleType       PriceRange   Capacity BootSpace  \\\n",
       "0     Automatic    Electric   13.99 - 17.4 L  5 Seater      350 L   \n",
       "1     Automatic    Electric  12.49 - 13.64 L  5 Seater      316 L   \n",
       "2     Automatic    Electric  17.74 - 19.24 L  5 Seater      350 L   \n",
       "3     Automatic    Electric  21.99 - 25.88 L  5 Seater      448 L   \n",
       "4     Automatic    Electric  23.79 - 23.98 L  5 Seater         na   \n",
       "5     Automatic    Electric   1.06 - 1.12 Cr  5 Seater      656 L   \n",
       "6     Automatic    Electric           1.8 Cr  5 Seater      405 L   \n",
       "7     Automatic    Electric          29.15 L  5 Seater      580 L   \n",
       "8     Automatic    Electric             1 Cr  5 Seater         na   \n",
       "9     Automatic    Electric          1.16 Cr  5 Seater         na   \n",
       "10    Automatic    Electric           1.5 Cr  4 Seater         na   \n",
       "11    Automatic    Electric   1.01 - 1.19 Cr  5 Seater      660 L   \n",
       "\n",
       "             BaseModel             TopModel  \n",
       "0                  XM     Dark XZ Plus LUX   \n",
       "1                  XE    XZ Plus Dual Tone   \n",
       "2      XZ Plus 3.3 kW   XZ Plus Lux 7.2 kW   \n",
       "3              Excite            Exclusive   \n",
       "4   Premium Dual Tone                  HSE   \n",
       "5                   S         Sportback 55   \n",
       "6             Quattro                    na  \n",
       "7                 STD                    na  \n",
       "8                   na                   na  \n",
       "9                   na                   na  \n",
       "10                  na                   na  \n",
       "11                  na                   na  "
      ]
     },
     "execution_count": 24,
     "metadata": {},
     "output_type": "execute_result"
    }
   ],
   "source": [
    "data.head(13)"
   ]
  },
  {
   "cell_type": "code",
   "execution_count": 25,
   "metadata": {},
   "outputs": [
    {
     "data": {
      "text/plain": [
       "array(['Tata Nexon EV', 'Tata Tigor EV', 'Tata Nexon EV Max', 'MG ZS EV',\n",
       "       'Hyundai Kona Electric', 'Jaguar I-Pace', 'Audi E-Tron GT',\n",
       "       'BYD E6', 'Mercedes-Benz EQC', 'BMW iX', 'Porsche Taycan',\n",
       "       'Audi E-Tron'], dtype=object)"
      ]
     },
     "execution_count": 25,
     "metadata": {},
     "output_type": "execute_result"
    }
   ],
   "source": [
    "data['Car'].unique()"
   ]
  },
  {
   "cell_type": "code",
   "execution_count": 26,
   "metadata": {},
   "outputs": [
    {
     "data": {
      "text/plain": [
       "array(['hyundai kona', 'tata nexon ev', 'tata tigor ev'], dtype=object)"
      ]
     },
     "execution_count": 26,
     "metadata": {},
     "output_type": "execute_result"
    }
   ],
   "source": [
    "Cars"
   ]
  },
  {
   "cell_type": "code",
   "execution_count": null,
   "metadata": {},
   "outputs": [],
   "source": []
  },
  {
   "cell_type": "code",
   "execution_count": null,
   "metadata": {},
   "outputs": [],
   "source": []
  }
 ],
 "metadata": {
  "kernelspec": {
   "display_name": "Python 3",
   "language": "python",
   "name": "python3"
  },
  "language_info": {
   "codemirror_mode": {
    "name": "ipython",
    "version": 3
   },
   "file_extension": ".py",
   "mimetype": "text/x-python",
   "name": "python",
   "nbconvert_exporter": "python",
   "pygments_lexer": "ipython3",
   "version": "3.10.4"
  },
  "orig_nbformat": 4
 },
 "nbformat": 4,
 "nbformat_minor": 2
}
